{
 "cells": [
  {
   "cell_type": "markdown",
   "metadata": {},
   "source": [
    "## Scraping Images from Dwell\n",
    "\n",
    "Will now scrape images from Dwell, a website for interior design. Note that images are placed in separate folders and recorded in separate .csv files from the other websites."
   ]
  },
  {
   "cell_type": "code",
   "execution_count": null,
   "metadata": {},
   "outputs": [],
   "source": [
    "from selenium import webdriver\n",
    "import pandas as pd\n",
    "import urllib.request\n",
    "from pathlib import Path\n",
    "import sys\n",
    "import time"
   ]
  },
  {
   "cell_type": "code",
   "execution_count": null,
   "metadata": {},
   "outputs": [],
   "source": [
    "driver = webdriver.Chrome()\n",
    "driver.get('https://www.dwell.com/photos/bedroom')"
   ]
  },
  {
   "cell_type": "code",
   "execution_count": null,
   "metadata": {},
   "outputs": [],
   "source": [
    "def getAllImagesOnPage(df_typeOfSpace, file_typeOfSpace):\n",
    "    images = driver.find_elements_by_css_selector(\"._3Mfjz-rsF9nA1eAreF6V0E ._1hsigH-Inte6wc2OsrF32b img\")\n",
    "    df = pd.DataFrame(columns=[\"name\",\"typeOfSpace\",\"imageLink\"])\n",
    "    \n",
    "    for image in images:\n",
    "        name = image.get_attribute(\"alt\")\n",
    "        if len(name) > 250: # if file path is too long\n",
    "            name = name[:250]\n",
    "        if \"/\" in name in name: # Do not mistake slashes for directories\n",
    "            name = name.replace(\"/\", \"-\")\n",
    "        fullName = \"images/dwell/\" + file_typeOfSpace + \"/\" + name + \".jpg\"\n",
    "        imgFile = Path(fullName)\n",
    "        for i in range(1, sys.maxsize):\n",
    "            if imgFile.is_file(): # there may be overlapping file names\n",
    "                if i == 1:\n",
    "                    name += str(i)\n",
    "                elif i == 10 or i == 100 or i == 1000: # different number of digits from previous i\n",
    "                    name = name[:-(len(str(i))-1)] + str(i)\n",
    "                else:\n",
    "                    name = name[:-(len(str(i)))] + str(i)\n",
    "                fullName = \"images/dwell/\" + file_typeOfSpace + \"/\" + name + \".jpg\"\n",
    "                imgFile = Path(fullName)\n",
    "                \n",
    "            else:\n",
    "                break # as soon as the file name is valid\n",
    "            \n",
    "        # Get image link (change small or medium thumbnail to large by replacing URL)\n",
    "        URL = image.get_attribute(\"src\").replace(\"small\", \"large\", 1)\n",
    "        URL = URL.replace(\"medium\", \"large\", 1)\n",
    "        URL = URL.replace(\"thumbnail\", \"large\", 1)\n",
    "        print(URL)\n",
    "        urllib.request.urlretrieve(URL,fullName)\n",
    "            \n",
    "        imgInfo = {\n",
    "            \"name\": name,\n",
    "            \"typeOfSpace\": df_typeOfSpace, # Need to query df later for photos that don't match this type\n",
    "            \"imageLink\": URL\n",
    "        }\n",
    "            \n",
    "        # Pandas 데이터 입력\n",
    "        df.loc[len(df)] = imgInfo\n",
    "        \n",
    "    df.to_csv(\"data/dwell_\" + file_typeOfSpace + \".csv\", mode='a', header=False)"
   ]
  },
  {
   "cell_type": "markdown",
   "metadata": {},
   "source": [
    "We now write a code to get the images on every single page."
   ]
  },
  {
   "cell_type": "code",
   "execution_count": null,
   "metadata": {},
   "outputs": [],
   "source": [
    "def getImagesOnAllPages(df_typeOfSpace, file_typeOfSpace):\n",
    "    getAllImagesOnPage(df_typeOfSpace, file_typeOfSpace)\n",
    "    links = driver.find_elements_by_css_selector(\"._3vSCNYHJe9mhb1dM9cJs87\")\n",
    "    nextButton = \"\"\n",
    "    for link in links:\n",
    "        if link.get_attribute(\"rel\") == \"next\":\n",
    "            nextButton = link\n",
    "            break\n",
    "    if nextButton != \"\": # if the nextButton exists\n",
    "        driver.get(nextButton.get_attribute(\"href\")) # go to the next page\n",
    "        time.sleep(10) # wait for the page to load\n",
    "        getImagesOnAllPages(df_typeOfSpace, file_typeOfSpace)\n",
    "    else: # if it is the last page\n",
    "        return None"
   ]
  },
  {
   "cell_type": "code",
   "execution_count": null,
   "metadata": {},
   "outputs": [],
   "source": [
    "getImagesOnAllPages(df_typeOfSpace=\"Room\", file_typeOfSpace=\"rooms\")"
   ]
  },
  {
   "cell_type": "markdown",
   "metadata": {},
   "source": [
    "## Other Spaces\n",
    "\n",
    "Run the image scraping algorithm for the following links. Must remember to change the path to which the image is downloaded, as well as the csv file the image data is stored in.\n",
    "\n",
    "https://www.dwell.com/photos/living <br>\n",
    "https://www.dwell.com/photos/bath <br>\n",
    "https://www.dwell.com/photos/kitchen"
   ]
  },
  {
   "cell_type": "code",
   "execution_count": null,
   "metadata": {},
   "outputs": [],
   "source": [
    "driver = webdriver.Chrome()\n",
    "driver.get('https://www.dwell.com/photos/living')"
   ]
  },
  {
   "cell_type": "code",
   "execution_count": null,
   "metadata": {},
   "outputs": [],
   "source": [
    "getImagesOnAllPages(df_typeOfSpace=\"Living Room\", file_typeOfSpace=\"livingrooms\")"
   ]
  },
  {
   "cell_type": "code",
   "execution_count": null,
   "metadata": {},
   "outputs": [],
   "source": [
    "driver = webdriver.Chrome()\n",
    "driver.get('https://www.dwell.com/photos/bath')"
   ]
  },
  {
   "cell_type": "code",
   "execution_count": null,
   "metadata": {},
   "outputs": [],
   "source": [
    "getImagesOnAllPages(df_typeOfSpace=\"Bathroom\", file_typeOfSpace=\"bathrooms\")"
   ]
  },
  {
   "cell_type": "code",
   "execution_count": null,
   "metadata": {},
   "outputs": [],
   "source": [
    "driver = webdriver.Chrome()\n",
    "driver.get('https://www.dwell.com/photos/kitchen')"
   ]
  },
  {
   "cell_type": "code",
   "execution_count": null,
   "metadata": {},
   "outputs": [],
   "source": [
    "getImagesOnAllPages(df_typeOfSpace=\"Kitchen\", file_typeOfSpace=\"kitchens\")"
   ]
  }
 ],
 "metadata": {
  "kernelspec": {
   "display_name": "Python 3",
   "language": "python",
   "name": "python3"
  },
  "language_info": {
   "codemirror_mode": {
    "name": "ipython",
    "version": 3
   },
   "file_extension": ".py",
   "mimetype": "text/x-python",
   "name": "python",
   "nbconvert_exporter": "python",
   "pygments_lexer": "ipython3",
   "version": "3.7.1"
  }
 },
 "nbformat": 4,
 "nbformat_minor": 2
}
