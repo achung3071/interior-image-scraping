{
 "cells": [
  {
   "cell_type": "markdown",
   "metadata": {},
   "source": [
    "## Crawling for AllModern: (Bed)Rooms"
   ]
  },
  {
   "cell_type": "markdown",
   "metadata": {},
   "source": [
    "Get images off of the following website.\n",
    "\n",
    "See more at: https://www.allmodern.com/shop-the-look/sl1/bedroom-ideas"
   ]
  },
  {
   "cell_type": "code",
   "execution_count": null,
   "metadata": {},
   "outputs": [],
   "source": [
    "from selenium import webdriver\n",
    "import pandas as pd\n",
    "import urllib.request\n",
    "from pathlib import Path\n",
    "import sys\n",
    "import time"
   ]
  },
  {
   "cell_type": "code",
   "execution_count": null,
   "metadata": {},
   "outputs": [],
   "source": [
    "driver = webdriver.Chrome()\n",
    "driver.get('https://www.allmodern.com/shop-the-look/sl1/bedroom-ideas')"
   ]
  },
  {
   "cell_type": "code",
   "execution_count": null,
   "metadata": {},
   "outputs": [],
   "source": [
    "def getAllImagesOnPage(df_typeOfSpace, file_typeOfSpace):\n",
    "    imageCols = driver.find_elements_by_css_selector(\".u-size4of12\")\n",
    "    df = pd.DataFrame(columns=[\"name\",\"typeOfSpace\",\"imageLink\"])\n",
    "    \n",
    "    for col in imageCols:\n",
    "        noImagesCollected = 0 # number of images downloaded so far\n",
    "        images = col.find_elements_by_css_selector(\".ImageComponent-image\") # list of all image elements\n",
    "\n",
    "        # Slowly reduce len(images) until all images in the column have been downloaded\n",
    "        while len(images) != 0:\n",
    "            image = images[0]\n",
    "            name = image.get_attribute(\"alt\")\n",
    "            if \"/\" in name:\n",
    "                name = name.replace(\"/\", \"-\") # make sure it doesn't mistake '/' for directory\n",
    "            fullName = \"images/\" + file_typeOfSpace + \"/\" + name + \".jpg\"\n",
    "            imgFile = Path(fullName)\n",
    "            for i in range(1, sys.maxsize):\n",
    "                if imgFile.is_file(): # there may be overlapping file names\n",
    "                    if i == 1:\n",
    "                        name += str(i)\n",
    "                    elif i == 10 or i == 100: # different number of digits from previous i\n",
    "                        name = name[:-(len(str(i))-1)] + str(i)\n",
    "                    else:\n",
    "                        name = name[:-(len(str(i)))] + str(i)\n",
    "                    fullName = \"images/\" + file_typeOfSpace + \"/\" + name + \".jpg\"\n",
    "                    imgFile = Path(fullName)\n",
    "                \n",
    "                else:\n",
    "                    break # as soon as the file name is valid\n",
    "            \n",
    "            # Download last image link in srcset\n",
    "            URL = image.get_attribute(\"srcset\").split(',')[-1].split(' ')[0]\n",
    "            urllib.request.urlretrieve(URL,fullName)\n",
    "            noImagesCollected += 1\n",
    "            \n",
    "            imgInfo = {\n",
    "                \"name\": name,\n",
    "                \"typeOfSpace\": df_typeOfSpace, # Need to query df later for photos that don't match this type\n",
    "                \"imageLink\": URL\n",
    "            }\n",
    "            \n",
    "            # Pandas 데이터 입력\n",
    "            df.loc[len(df)] = imgInfo\n",
    "            \n",
    "            # If more images need to be loaded, scroll down\n",
    "            if image == images[-1]:\n",
    "                driver.execute_script(\"window.scrollTo(0, document.body.scrollHeight);\")\n",
    "                time.sleep(10) # Wait for images to load\n",
    "            \n",
    "            # Discount the downloaded image from images\n",
    "            images = col.find_elements_by_css_selector(\".ImageComponent-image\")[noImagesCollected:]\n",
    "        \n",
    "    df.to_csv(\"data/\" + file_typeOfSpace + \".csv\", mode='a', header=False)"
   ]
  },
  {
   "cell_type": "markdown",
   "metadata": {},
   "source": [
    "Note: I have not written a (recursive) code for getting all images on all pages for AllModern because there is a chptcha that needs to be filled out per page & the pagination button element is uninteractable through Selenium. Such code may be useful for scraping from other websites, however."
   ]
  },
  {
   "cell_type": "code",
   "execution_count": null,
   "metadata": {},
   "outputs": [],
   "source": [
    "getAllImagesOnPage(df_typeOfSpace=\"Room\", file_typeOfSpace=\"rooms\") # run on each page"
   ]
  },
  {
   "cell_type": "markdown",
   "metadata": {},
   "source": [
    "## Other Spaces\n",
    "Take a look and run the algorithm for the following links. Must remember to change the path to which the image is downloaded, as well as the csv file the image data is stored in.\n",
    "\n",
    "https://www.allmodern.com/shop-the-look/sl1/livingroom-ideas <br>\n",
    "https://www.allmodern.com/shop-the-look/sl1/bathroom-ideas <br>\n",
    "https://www.allmodern.com/shop-the-look/sl1/kitchen-ideas"
   ]
  },
  {
   "cell_type": "code",
   "execution_count": null,
   "metadata": {},
   "outputs": [],
   "source": [
    "driver = webdriver.Chrome()\n",
    "driver.get('https://www.allmodern.com/shop-the-look/sl1/livingroom-ideas')"
   ]
  },
  {
   "cell_type": "code",
   "execution_count": null,
   "metadata": {
    "scrolled": true
   },
   "outputs": [],
   "source": [
    "getAllImagesOnPage(df_typeOfSpace=\"Living Room\", file_typeOfSpace=\"livingrooms\") # run on each page"
   ]
  },
  {
   "cell_type": "code",
   "execution_count": null,
   "metadata": {},
   "outputs": [],
   "source": [
    "driver = webdriver.Chrome()\n",
    "driver.get('https://www.allmodern.com/shop-the-look/sl1/bathroom-ideas')"
   ]
  },
  {
   "cell_type": "code",
   "execution_count": null,
   "metadata": {},
   "outputs": [],
   "source": [
    "getAllImagesOnPage(df_typeOfSpace=\"Bathroom\", file_typeOfSpace=\"bathrooms\") # run on each page"
   ]
  },
  {
   "cell_type": "code",
   "execution_count": null,
   "metadata": {},
   "outputs": [],
   "source": [
    "driver = webdriver.Chrome()\n",
    "driver.get('https://www.allmodern.com/shop-the-look/sl1/kitchen-ideas')"
   ]
  },
  {
   "cell_type": "code",
   "execution_count": null,
   "metadata": {},
   "outputs": [],
   "source": [
    "getAllImagesOnPage(df_typeOfSpace=\"Kitchen\", file_typeOfSpace=\"kitchens\") # run on each page"
   ]
  }
 ],
 "metadata": {
  "kernelspec": {
   "display_name": "Python 3",
   "language": "python",
   "name": "python3"
  },
  "language_info": {
   "codemirror_mode": {
    "name": "ipython",
    "version": 3
   },
   "file_extension": ".py",
   "mimetype": "text/x-python",
   "name": "python",
   "nbconvert_exporter": "python",
   "pygments_lexer": "ipython3",
   "version": "3.7.1"
  }
 },
 "nbformat": 4,
 "nbformat_minor": 2
}
