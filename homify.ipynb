{
 "cells": [
  {
   "cell_type": "markdown",
   "metadata": {},
   "source": [
    "## Scraping Images from Homify\n",
    "\n",
    "Will scrape images from Homify, a website for interior design. Note that images are placed in separate folders and recorded in separate .csv files from the other websites."
   ]
  },
  {
   "cell_type": "code",
   "execution_count": null,
   "metadata": {},
   "outputs": [],
   "source": [
    "from selenium import webdriver\n",
    "import pandas as pd\n",
    "import urllib.request\n",
    "from pathlib import Path\n",
    "import sys\n",
    "import time"
   ]
  },
  {
   "cell_type": "code",
   "execution_count": null,
   "metadata": {},
   "outputs": [],
   "source": [
    "driver = webdriver.Chrome()\n",
    "driver.get('https://www.homify.co.uk/rooms/bedroom')"
   ]
  },
  {
   "cell_type": "code",
   "execution_count": null,
   "metadata": {},
   "outputs": [],
   "source": [
    "def getAllImagesOnPage(df_typeOfSpace, file_typeOfSpace):\n",
    "    images = driver.find_elements_by_css_selector(\".-horizontal- .-horizontal- li\")\n",
    "    new_images = []\n",
    "    for image in images:\n",
    "        if image.get_attribute(\"id\"): # if the image is not an ad\n",
    "            new_images.append(image)\n",
    "    df = pd.DataFrame(columns=[\"name\",\"typeOfSpace\",\"imageLink\"])\n",
    "    \n",
    "    for image in new_images:\n",
    "        name = image.get_attribute(\"id\") # we do not need a renaming system because ids are unique\n",
    "        fullName = \"images/homify/\" + file_typeOfSpace + \"/\" + name + \".jpg\"\n",
    "        \n",
    "        # Get image link (but change to a bigger size)\n",
    "        URL = image.find_elements_by_css_selector(\".js-photo-link source\")[0].get_attribute(\"srcset\")\n",
    "        URL = URL.split(' ')[0]\n",
    "        ogSize = int(URL.split(':')[2].split('/')[0].split('_')[1])\n",
    "        newSize = ogSize * 2\n",
    "        URL = URL.replace(str(ogSize), str(newSize), 1)\n",
    "        print(URL)\n",
    "        urllib.request.urlretrieve(URL,fullName)\n",
    "            \n",
    "        imgInfo = {\n",
    "            \"name\": name,\n",
    "            \"typeOfSpace\": df_typeOfSpace, # Need to query df later for photos that don't match this type\n",
    "            \"imageLink\": URL\n",
    "        }\n",
    "            \n",
    "        # Pandas 데이터 입력\n",
    "        df.loc[len(df)] = imgInfo\n",
    "        \n",
    "    df.to_csv(\"data/homify_\" + file_typeOfSpace + \".csv\", mode='a', header=False)"
   ]
  },
  {
   "cell_type": "markdown",
   "metadata": {},
   "source": [
    "We now write a code to get the images on every single page."
   ]
  },
  {
   "cell_type": "code",
   "execution_count": null,
   "metadata": {},
   "outputs": [],
   "source": [
    "def getImagesOnAllPages(df_typeOfSpace, file_typeOfSpace):\n",
    "    getAllImagesOnPage(df_typeOfSpace, file_typeOfSpace)\n",
    "    links = driver.find_elements_by_css_selector(\".pagination--next-page-link\")\n",
    "    nextButton = \"\"\n",
    "    for link in links:\n",
    "        if link.get_attribute(\"rel\") == \"next\":\n",
    "            nextButton = link\n",
    "            break\n",
    "    if nextButton != \"\": # if the nextButton exists\n",
    "        driver.get(nextButton.get_attribute(\"href\")) # go to the next page\n",
    "        time.sleep(10) # wait for the page to load\n",
    "        getImagesOnAllPages(df_typeOfSpace, file_typeOfSpace)\n",
    "    else: # if it is the last page\n",
    "        return None"
   ]
  },
  {
   "cell_type": "code",
   "execution_count": null,
   "metadata": {},
   "outputs": [],
   "source": [
    "getImagesOnAllPages(df_typeOfSpace=\"Room\", file_typeOfSpace=\"rooms\")"
   ]
  },
  {
   "cell_type": "markdown",
   "metadata": {},
   "source": [
    "## Other Spaces\n",
    "\n",
    "Run the image scraping algorithm for the following links. Must remember to change the path to which the image is downloaded, as well as the csv file the image data is stored in.\n",
    "\n",
    "https://www.homify.co.uk/rooms/living-room <br>\n",
    "https://www.homify.co.uk/rooms/bathroom <br>\n",
    "https://www.homify.co.uk/rooms/kitchen"
   ]
  },
  {
   "cell_type": "code",
   "execution_count": null,
   "metadata": {},
   "outputs": [],
   "source": [
    "driver = webdriver.Chrome()\n",
    "driver.get('https://www.homify.co.uk/rooms/living-room')"
   ]
  },
  {
   "cell_type": "code",
   "execution_count": null,
   "metadata": {},
   "outputs": [],
   "source": [
    "getImagesOnAllPages(df_typeOfSpace=\"Living Room\", file_typeOfSpace=\"livingrooms\")"
   ]
  },
  {
   "cell_type": "code",
   "execution_count": null,
   "metadata": {},
   "outputs": [],
   "source": [
    "driver = webdriver.Chrome()\n",
    "driver.get('https://www.homify.co.uk/rooms/bathroom')"
   ]
  },
  {
   "cell_type": "code",
   "execution_count": null,
   "metadata": {},
   "outputs": [],
   "source": [
    "getImagesOnAllPages(df_typeOfSpace=\"Bathroom\", file_typeOfSpace=\"bathrooms\")"
   ]
  },
  {
   "cell_type": "code",
   "execution_count": null,
   "metadata": {},
   "outputs": [],
   "source": [
    "driver = webdriver.Chrome()\n",
    "driver.get('https://www.homify.co.uk/rooms/kitchen')"
   ]
  },
  {
   "cell_type": "code",
   "execution_count": null,
   "metadata": {},
   "outputs": [],
   "source": [
    "getImagesOnAllPages(df_typeOfSpace=\"Kitchen\", file_typeOfSpace=\"kitchens\")"
   ]
  }
 ],
 "metadata": {
  "kernelspec": {
   "display_name": "Python 3",
   "language": "python",
   "name": "python3"
  },
  "language_info": {
   "codemirror_mode": {
    "name": "ipython",
    "version": 3
   },
   "file_extension": ".py",
   "mimetype": "text/x-python",
   "name": "python",
   "nbconvert_exporter": "python",
   "pygments_lexer": "ipython3",
   "version": "3.7.1"
  }
 },
 "nbformat": 4,
 "nbformat_minor": 2
}
